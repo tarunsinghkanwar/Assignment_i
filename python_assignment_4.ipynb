{
 "cells": [
  {
   "cell_type": "markdown",
   "metadata": {},
   "source": [
    "### 1.1 Write a Python Program(with class concepts) to find the area of the triangle using the below\n",
    "### formula.\n",
    "### area = (s*(s-a)*(s-b)*(s-c)) ** 0.5\n",
    "### Function to take the length of the sides of triangle from user should be defined in the parent\n",
    "### class and function to calculate the area should be defined in subclass."
   ]
  },
  {
   "cell_type": "code",
   "execution_count": 26,
   "metadata": {},
   "outputs": [],
   "source": [
    "import numpy as np"
   ]
  },
  {
   "cell_type": "code",
   "execution_count": 27,
   "metadata": {},
   "outputs": [],
   "source": [
    "class traingle:\n",
    "    def __init__(self):\n",
    "        self.a=None\n",
    "        self.b=None\n",
    "        self.c=None\n",
    "        self.area=None\n",
    "        self.s = None\n",
    "        \n",
    "    def Area(self):\n",
    "        self.a=float(input('enter first side: '))\n",
    "        self.b=float(input('enter second side: '))\n",
    "        self.c=float(input('enter Third side: '))\n",
    "        self.s=(self.a + self.b + self.c) / 2\n",
    "        self.area = np.round((self.s*(self.s-self.a)*(self.s-self.b)*(self.s-self.c)) ** 0.5,2)\n",
    "        return self.area\n",
    "obj=traingle()\n"
   ]
  },
  {
   "cell_type": "code",
   "execution_count": 28,
   "metadata": {},
   "outputs": [
    {
     "name": "stdout",
     "output_type": "stream",
     "text": [
      "enter first side: 85\n",
      "enter second side: 89\n",
      "enter Third side: 25\n"
     ]
    },
    {
     "data": {
      "text/plain": [
       "1062.35"
      ]
     },
     "execution_count": 28,
     "metadata": {},
     "output_type": "execute_result"
    }
   ],
   "source": [
    "obj.Area()"
   ]
  },
  {
   "cell_type": "markdown",
   "metadata": {},
   "source": [
    "### Write a function filter_long_words() that takes a list of words and an integer n and returns\n",
    "### the list of words that are longer than n."
   ]
  },
  {
   "cell_type": "code",
   "execution_count": 44,
   "metadata": {},
   "outputs": [
    {
     "name": "stdout",
     "output_type": "stream",
     "text": [
      "Enter the sentence:Tarun Singh kanwar\n",
      "enter the value of num: 5\n"
     ]
    },
    {
     "data": {
      "text/plain": [
       "['kanwar']"
      ]
     },
     "execution_count": 44,
     "metadata": {},
     "output_type": "execute_result"
    }
   ],
   "source": [
    "def filter_long_words(string,num):\n",
    "        string=string.split(' ')\n",
    "        new_string=[]\n",
    "        for i in string:\n",
    "            if len(i)>num:\n",
    "                new_string.append(i)\n",
    "        return new_string\n",
    "    \n",
    "string=input(\"Enter the sentence:\")\n",
    "num=int(input(\"enter the value of num: \"))\n",
    "filter_long_words(string,num)\n"
   ]
  },
  {
   "cell_type": "markdown",
   "metadata": {},
   "source": [
    "### 2.1 Write a Python program using function concept that maps list of words into a list of integers\n",
    "### representing the lengths of the corresponding words.\n",
    "### Hint: If a list [ ab,cde,erty] is passed on to the python function output should come as [2,3,4]\n",
    "### Here 2,3 and 4 are the lengths of the words in the list."
   ]
  },
  {
   "cell_type": "code",
   "execution_count": 65,
   "metadata": {},
   "outputs": [
    {
     "name": "stdout",
     "output_type": "stream",
     "text": [
      "Enter the sentence1 2 bfvafb\n"
     ]
    },
    {
     "data": {
      "text/plain": [
       "[1, 1, 6]"
      ]
     },
     "execution_count": 65,
     "metadata": {},
     "output_type": "execute_result"
    }
   ],
   "source": [
    "mylist=input('Enter the sentence').split(' ')\n",
    "def func(string):\n",
    "    int_list=[]\n",
    "    for i in string:\n",
    "        int_list.append(len(i))\n",
    "    return int_list\n",
    "func(mylist)"
   ]
  },
  {
   "cell_type": "markdown",
   "metadata": {},
   "source": [
    "### 2.2 Write a Python function which takes a character (i.e. a string of length 1) and returns True if\n",
    "### it is a vowel, False otherwise."
   ]
  },
  {
   "cell_type": "code",
   "execution_count": 71,
   "metadata": {},
   "outputs": [
    {
     "name": "stdout",
     "output_type": "stream",
     "text": [
      "Enter the character: l\n"
     ]
    },
    {
     "data": {
      "text/plain": [
       "False"
      ]
     },
     "execution_count": 71,
     "metadata": {},
     "output_type": "execute_result"
    }
   ],
   "source": [
    "vowel_list=['a','e','i','o','u']\n",
    "\n",
    "char=input('Enter the character: ').lower()\n",
    "def is_vowel(char):\n",
    "    if char in vowel_list:\n",
    "        return True\n",
    "    else:\n",
    "        return False\n",
    "is_vowel(char)"
   ]
  }
 ],
 "metadata": {
  "kernelspec": {
   "display_name": "Python 3",
   "language": "python",
   "name": "python3"
  },
  "language_info": {
   "codemirror_mode": {
    "name": "ipython",
    "version": 3
   },
   "file_extension": ".py",
   "mimetype": "text/x-python",
   "name": "python",
   "nbconvert_exporter": "python",
   "pygments_lexer": "ipython3",
   "version": "3.8.5"
  }
 },
 "nbformat": 4,
 "nbformat_minor": 4
}
